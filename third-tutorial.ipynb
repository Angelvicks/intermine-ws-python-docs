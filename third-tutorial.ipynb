{
 "cells": [
  {
   "cell_type": "markdown",
   "metadata": {},
   "source": [
    "# Intermine-Python: Tutorial 3: More about Constraints"
   ]
  },
  {
   "cell_type": "markdown",
   "metadata": {},
   "source": [
    "In the previous tutorial, we learnt about adding constraints to our query so that we could filter the results. In this tutorial we will take a look at some more contraints and the different types of constraints. "
   ]
  },
  {
   "cell_type": "code",
   "execution_count": 1,
   "metadata": {
    "collapsed": true
   },
   "outputs": [],
   "source": [
    "from intermine.webservice import Service"
   ]
  },
  {
   "cell_type": "code",
   "execution_count": 2,
   "metadata": {
    "collapsed": true
   },
   "outputs": [],
   "source": [
    "service = Service(\"http://beta.flymine.org/beta/service\")\n",
    "query=service.new_query(\"Gene\") "
   ]
  },
  {
   "cell_type": "markdown",
   "metadata": {},
   "source": [
    "##### Unary Constraint"
   ]
  },
  {
   "cell_type": "markdown",
   "metadata": {},
   "source": [
    "The first type of constraint that we will look at is a Unary Constraint. A Unary Constraint is one that does not take any value but can be used to check if a particular attirbute is absent or present. The Unary constraints are IS Null and IS NOT Null. We can look at a small example. "
   ]
  },
  {
   "cell_type": "code",
   "execution_count": 3,
   "metadata": {
    "collapsed": false
   },
   "outputs": [
    {
     "data": {
      "text/plain": [
       "<UnaryConstraint: Gene.primaryIdentifier IS NOT NULL>"
      ]
     },
     "execution_count": 3,
     "metadata": {},
     "output_type": "execute_result"
    }
   ],
   "source": [
    "query.add_constraint(\"primaryIdentifier\",\"IS NOT NULL\")"
   ]
  },
  {
   "cell_type": "code",
   "execution_count": 4,
   "metadata": {
    "collapsed": false
   },
   "outputs": [
    {
     "name": "stdout",
     "output_type": "stream",
     "text": [
      "Gene: briefDescription=None cytoLocation='-' description=None id=1000415 length=12653 name='zydeco' primaryIdentifier='FBgn0265767' score=None scoreType=None secondaryIdentifier='CG2893' symbol='zyd'\n",
      "Gene: briefDescription=None cytoLocation='-' description=None id=1004698 length=1951 name=None primaryIdentifier='FBgn0039942' score=None scoreType=None secondaryIdentifier='CG17163' symbol='CG17163'\n",
      "Gene: briefDescription=None cytoLocation='-' description=None id=1005938 length=12892 name='Rho GTPase activating protein at 1A' primaryIdentifier='FBgn0025836' score=None scoreType=None secondaryIdentifier='CG40494' symbol='RhoGAP1A'\n",
      "Gene: briefDescription=None cytoLocation='-' description=None id=1007519 length=21475 name='verthandi' primaryIdentifier='FBgn0260987' score=None scoreType=None secondaryIdentifier='CG17436' symbol='vtd'\n",
      "Gene: briefDescription=None cytoLocation='-' description=None id=1015398 length=14286 name='Maf1' primaryIdentifier='FBgn0267861' score=None scoreType=None secondaryIdentifier='CG40196' symbol='Maf1'\n",
      "Gene: briefDescription=None cytoLocation='-' description=None id=1018843 length=12844 name=None primaryIdentifier='FBgn0039941' score=None scoreType=None secondaryIdentifier='CG17167' symbol='CG17167'\n",
      "Gene: briefDescription=None cytoLocation='-' description=None id=1018936 length=11613 name=None primaryIdentifier='FBgn0040031' score=None scoreType=None secondaryIdentifier='CG12061' symbol='CG12061'\n",
      "Gene: briefDescription=None cytoLocation='-' description=None id=1019191 length=45356 name=None primaryIdentifier='FBgn0039959' score=None scoreType=None secondaryIdentifier='CG17514' symbol='CG17514'\n",
      "Gene: briefDescription=None cytoLocation='-' description=None id=1019474 length=21673 name=None primaryIdentifier='FBgn0039955' score=None scoreType=None secondaryIdentifier='CG41099' symbol='CG41099'\n",
      "Gene: briefDescription=None cytoLocation='-' description=None id=1020233 length=11099 name=None primaryIdentifier='FBgn0040056' score=None scoreType=None secondaryIdentifier='CG17698' symbol='CG17698'\n"
     ]
    }
   ],
   "source": [
    "for row in query.rows(size=10):\n",
    "    print(row)"
   ]
  },
  {
   "cell_type": "markdown",
   "metadata": {},
   "source": [
    "##### Binary Constraint"
   ]
  },
  {
   "cell_type": "markdown",
   "metadata": {},
   "source": [
    "The next type of constraint is a Binary Constraint. This refers to constraints that take a value. Most of the constraints that we looked at in the second tutorial were binary constraints. Binary constraints are the largest group of constraints. The operators are =,<=,>=,<,>,!="
   ]
  },
  {
   "cell_type": "code",
   "execution_count": 5,
   "metadata": {
    "collapsed": false
   },
   "outputs": [
    {
     "data": {
      "text/plain": [
       "<BinaryConstraint: Gene.length >= 12000>"
      ]
     },
     "execution_count": 5,
     "metadata": {},
     "output_type": "execute_result"
    }
   ],
   "source": [
    "query.add_constraint(\"length\",\">=\",\"12000\")"
   ]
  },
  {
   "cell_type": "code",
   "execution_count": 6,
   "metadata": {
    "collapsed": false
   },
   "outputs": [
    {
     "name": "stdout",
     "output_type": "stream",
     "text": [
      "Gene: briefDescription=None cytoLocation='-' description=None id=1000415 length=12653 name='zydeco' primaryIdentifier='FBgn0265767' score=None scoreType=None secondaryIdentifier='CG2893' symbol='zyd'\n",
      "Gene: briefDescription=None cytoLocation='-' description=None id=1005938 length=12892 name='Rho GTPase activating protein at 1A' primaryIdentifier='FBgn0025836' score=None scoreType=None secondaryIdentifier='CG40494' symbol='RhoGAP1A'\n",
      "Gene: briefDescription=None cytoLocation='-' description=None id=1007519 length=21475 name='verthandi' primaryIdentifier='FBgn0260987' score=None scoreType=None secondaryIdentifier='CG17436' symbol='vtd'\n",
      "Gene: briefDescription=None cytoLocation='-' description=None id=1015398 length=14286 name='Maf1' primaryIdentifier='FBgn0267861' score=None scoreType=None secondaryIdentifier='CG40196' symbol='Maf1'\n",
      "Gene: briefDescription=None cytoLocation='-' description=None id=1018843 length=12844 name=None primaryIdentifier='FBgn0039941' score=None scoreType=None secondaryIdentifier='CG17167' symbol='CG17167'\n",
      "Gene: briefDescription=None cytoLocation='-' description=None id=1019191 length=45356 name=None primaryIdentifier='FBgn0039959' score=None scoreType=None secondaryIdentifier='CG17514' symbol='CG17514'\n",
      "Gene: briefDescription=None cytoLocation='-' description=None id=1019474 length=21673 name=None primaryIdentifier='FBgn0039955' score=None scoreType=None secondaryIdentifier='CG41099' symbol='CG41099'\n",
      "Gene: briefDescription=None cytoLocation='-' description=None id=1020460 length=32088 name='kelch like family member 10' primaryIdentifier='FBgn0040038' score=None scoreType=None secondaryIdentifier='CG12423' symbol='klhl10'\n",
      "Gene: briefDescription=None cytoLocation='-' description=None id=1058972 length=133933 name=None primaryIdentifier='FBgn0058006' score=None scoreType=None secondaryIdentifier='CG40006' symbol='CG40006'\n",
      "Gene: briefDescription=None cytoLocation='-' description=None id=1060939 length=76790 name='neverland' primaryIdentifier='FBgn0259697' score=None scoreType=None secondaryIdentifier='CG40050' symbol='nvd'\n"
     ]
    }
   ],
   "source": [
    "for row in query.rows(size=10):\n",
    "    print(row)"
   ]
  },
  {
   "cell_type": "markdown",
   "metadata": {},
   "source": [
    "The above constraint is an example of a binary constraint. "
   ]
  },
  {
   "cell_type": "markdown",
   "metadata": {},
   "source": [
    "##### Ternary Constraint"
   ]
  },
  {
   "cell_type": "markdown",
   "metadata": {},
   "source": [
    "We will now look at Ternary constraints. A ternary constraint is a type of constraint which has one required value and one optional value. Currently, intermine supports only one such type of operator: LOOKUP. The lookup operator searches through all the fields in a particular class for the value specified by the user. In the example given below, it will search through the entire gene class to find if any of the fields has an occurence of \"zen\". The advantage of this is that you do not need to remember if zen is a symbol or a name or a primaryIdentifier. However, this may lead to ambiguous results and so you can use the optional extra_value parameter to limit the search to the type of object (for example, organism in genes). "
   ]
  },
  {
   "cell_type": "code",
   "execution_count": 7,
   "metadata": {
    "collapsed": true
   },
   "outputs": [],
   "source": [
    "query2=service.new_query()"
   ]
  },
  {
   "cell_type": "code",
   "execution_count": 8,
   "metadata": {
    "collapsed": false
   },
   "outputs": [
    {
     "data": {
      "text/plain": [
       "<TernaryConstraint: Gene LOOKUP zen IN D. melanogaster>"
      ]
     },
     "execution_count": 8,
     "metadata": {},
     "output_type": "execute_result"
    }
   ],
   "source": [
    "query2.add_constraint(\"Gene\",\"LOOKUP\",\"zen\",extra_value=\"D. melanogaster\")"
   ]
  },
  {
   "cell_type": "code",
   "execution_count": 9,
   "metadata": {
    "collapsed": false
   },
   "outputs": [
    {
     "name": "stdout",
     "output_type": "stream",
     "text": [
      "Gene: briefDescription=None cytoLocation='84A5-84A5' description=None id=1007678 length=1331 name='zerknullt' primaryIdentifier='FBgn0004053' score=None scoreType=None secondaryIdentifier='CG1046' symbol='zen'\n"
     ]
    }
   ],
   "source": [
    "for row in query2.rows():\n",
    "    print(row)"
   ]
  },
  {
   "cell_type": "markdown",
   "metadata": {},
   "source": [
    "##### Multi-Value Constraint"
   ]
  },
  {
   "cell_type": "markdown",
   "metadata": {},
   "source": [
    "The next constraint type that we will look at is Multi-Value constraints. This allows the constraint to take multiple values. The two operators that are allowed are ONE OF and NONE OF. "
   ]
  },
  {
   "cell_type": "code",
   "execution_count": 10,
   "metadata": {
    "collapsed": true
   },
   "outputs": [],
   "source": [
    "query3=service.new_query(\"Gene\")"
   ]
  },
  {
   "cell_type": "code",
   "execution_count": 11,
   "metadata": {
    "collapsed": false
   },
   "outputs": [
    {
     "data": {
      "text/plain": [
       "<MultiConstraint: Gene.symbol NONE OF ['zen', 'eve']>"
      ]
     },
     "execution_count": 11,
     "metadata": {},
     "output_type": "execute_result"
    }
   ],
   "source": [
    "query3.add_constraint(\"symbol\",\"NONE OF\",['zen','eve'])"
   ]
  },
  {
   "cell_type": "code",
   "execution_count": 12,
   "metadata": {
    "collapsed": false
   },
   "outputs": [
    {
     "name": "stdout",
     "output_type": "stream",
     "text": [
      "Gene: briefDescription=None cytoLocation='-' description=None id=1000415 length=12653 name='zydeco' primaryIdentifier='FBgn0265767' score=None scoreType=None secondaryIdentifier='CG2893' symbol='zyd'\n",
      "Gene: briefDescription=None cytoLocation='-' description=None id=1004698 length=1951 name=None primaryIdentifier='FBgn0039942' score=None scoreType=None secondaryIdentifier='CG17163' symbol='CG17163'\n",
      "Gene: briefDescription=None cytoLocation='-' description=None id=1005938 length=12892 name='Rho GTPase activating protein at 1A' primaryIdentifier='FBgn0025836' score=None scoreType=None secondaryIdentifier='CG40494' symbol='RhoGAP1A'\n",
      "Gene: briefDescription=None cytoLocation='-' description=None id=1007519 length=21475 name='verthandi' primaryIdentifier='FBgn0260987' score=None scoreType=None secondaryIdentifier='CG17436' symbol='vtd'\n",
      "Gene: briefDescription=None cytoLocation='-' description=None id=1015398 length=14286 name='Maf1' primaryIdentifier='FBgn0267861' score=None scoreType=None secondaryIdentifier='CG40196' symbol='Maf1'\n",
      "Gene: briefDescription=None cytoLocation='-' description=None id=1018843 length=12844 name=None primaryIdentifier='FBgn0039941' score=None scoreType=None secondaryIdentifier='CG17167' symbol='CG17167'\n",
      "Gene: briefDescription=None cytoLocation='-' description=None id=1018936 length=11613 name=None primaryIdentifier='FBgn0040031' score=None scoreType=None secondaryIdentifier='CG12061' symbol='CG12061'\n",
      "Gene: briefDescription=None cytoLocation='-' description=None id=1019191 length=45356 name=None primaryIdentifier='FBgn0039959' score=None scoreType=None secondaryIdentifier='CG17514' symbol='CG17514'\n",
      "Gene: briefDescription=None cytoLocation='-' description=None id=1019474 length=21673 name=None primaryIdentifier='FBgn0039955' score=None scoreType=None secondaryIdentifier='CG41099' symbol='CG41099'\n",
      "Gene: briefDescription=None cytoLocation='-' description=None id=1020233 length=11099 name=None primaryIdentifier='FBgn0040056' score=None scoreType=None secondaryIdentifier='CG17698' symbol='CG17698'\n"
     ]
    }
   ],
   "source": [
    "for row in query3.rows(size=10):\n",
    "    print(row)"
   ]
  },
  {
   "cell_type": "markdown",
   "metadata": {},
   "source": [
    "##### List Constraint"
   ]
  },
  {
   "cell_type": "markdown",
   "metadata": {},
   "source": [
    "List Constraints: List constraints allow users to create a named list of objects and then use the operators IN and NOT IN to use those named lists in queries. An example for the same is below. The path in such a query must always be a Class (for example - Gene is a valid path). The available lists in the beta version of intermine can be found at: http://beta.flymine.org/beta/bag.do . You can also go through : http://www.flymine.org/flymine/bag.do?subtab=view"
   ]
  },
  {
   "cell_type": "code",
   "execution_count": 22,
   "metadata": {
    "collapsed": true
   },
   "outputs": [],
   "source": [
    "query4=service.new_query()"
   ]
  },
  {
   "cell_type": "code",
   "execution_count": 23,
   "metadata": {
    "collapsed": false
   },
   "outputs": [
    {
     "data": {
      "text/plain": [
       "<ListConstraint: Gene IN example-list>"
      ]
     },
     "execution_count": 23,
     "metadata": {},
     "output_type": "execute_result"
    }
   ],
   "source": [
    "query4.add_constraint(\"Gene\",\"IN\",\"example-list\")"
   ]
  },
  {
   "cell_type": "code",
   "execution_count": 24,
   "metadata": {
    "collapsed": false
   },
   "outputs": [
    {
     "name": "stdout",
     "output_type": "stream",
     "text": [
      "Gene: briefDescription=None cytoLocation='100A6-100A6' description=None id=1010991 length=2086 name='tailless' primaryIdentifier='FBgn0003720' score=None scoreType=None secondaryIdentifier='CG1378' symbol='tll'\n",
      "Gene: briefDescription=None cytoLocation='100C7-100D1' description=None id=1015402 length=4330 name='Medea' primaryIdentifier='FBgn0011655' score=None scoreType=None secondaryIdentifier='CG1775' symbol='Med'\n",
      "Gene: briefDescription=None cytoLocation='100D1-100D1' description=None id=1007496 length=21526 name='tramtrack' primaryIdentifier='FBgn0003870' score=None scoreType=None secondaryIdentifier='CG1856' symbol='ttk'\n",
      "Gene: briefDescription=None cytoLocation='13B8-13C1' description=None id=1013177 length=28826 name='abnormal chemosensory jump 6' primaryIdentifier='FBgn0000028' score=None scoreType=None secondaryIdentifier='CG9151' symbol='acj6'\n",
      "Gene: briefDescription=None cytoLocation='19E2-19E2' description=None id=1006928 length=6652 name='runt' primaryIdentifier='FBgn0003300' score=None scoreType=None secondaryIdentifier='CG1849' symbol='run'\n",
      "Gene: briefDescription=None cytoLocation='23C1-23C3' description=None id=1017290 length=68478 name='lilliputian' primaryIdentifier='FBgn0041111' score=None scoreType=None secondaryIdentifier='CG8817' symbol='lilli'\n",
      "Gene: briefDescription=None cytoLocation='23D3-23D3' description=None id=1019390 length=13588 name='Mothers against dpp' primaryIdentifier='FBgn0011648' score=None scoreType=None secondaryIdentifier='CG12399' symbol='Mad'\n",
      "Gene: briefDescription=None cytoLocation='24C6-24C6' description=None id=1030491 length=1425 name='sloppy paired 1' primaryIdentifier='FBgn0003430' score=None scoreType=None secondaryIdentifier='CG16738' symbol='slp1'\n",
      "Gene: briefDescription=None cytoLocation='31E2-31E2' description=None id=1057468 length=1779 name='Transcription factor IIB' primaryIdentifier='FBgn0004915' score=None scoreType=None secondaryIdentifier='CG5193' symbol='TfIIB'\n",
      "Gene: briefDescription=None cytoLocation='3A3-3A3' description=None id=1006176 length=1855 name='giant' primaryIdentifier='FBgn0001150' score=None scoreType=None secondaryIdentifier='CG7952' symbol='gt'\n"
     ]
    }
   ],
   "source": [
    "for row in query4.rows(size=10):\n",
    "    print(row)"
   ]
  },
  {
   "cell_type": "markdown",
   "metadata": {},
   "source": [
    "##### Sub-Class Constraints"
   ]
  },
  {
   "cell_type": "markdown",
   "metadata": {},
   "source": [
    "The intermine database is a hierarchical database. Sub-class constraints allow you to specify a sub-class of a class to constrain a path to. This basically allows us to constrain our results to only those items of the sub class. The example below is an example of a sub-class constraint. "
   ]
  },
  {
   "cell_type": "code",
   "execution_count": 16,
   "metadata": {
    "collapsed": true
   },
   "outputs": [],
   "source": [
    "query5=service.new_query(\"Gene\")"
   ]
  },
  {
   "cell_type": "code",
   "execution_count": 17,
   "metadata": {
    "collapsed": false
   },
   "outputs": [
    {
     "data": {
      "text/plain": [
       "<SubClassConstraint: Gene.ontologyAnnotations ISA GOAnnotation>"
      ]
     },
     "execution_count": 17,
     "metadata": {},
     "output_type": "execute_result"
    }
   ],
   "source": [
    "query5.add_constraint(\"ontologyAnnotations\",\"GOAnnotation\")"
   ]
  },
  {
   "cell_type": "code",
   "execution_count": 18,
   "metadata": {
    "collapsed": false
   },
   "outputs": [
    {
     "name": "stdout",
     "output_type": "stream",
     "text": [
      "Gene: briefDescription=None cytoLocation='-' description=None id=1000415 length=12653 name='zydeco' primaryIdentifier='FBgn0265767' score=None scoreType=None secondaryIdentifier='CG2893' symbol='zyd'\n",
      "Gene: briefDescription=None cytoLocation='-' description=None id=1005938 length=12892 name='Rho GTPase activating protein at 1A' primaryIdentifier='FBgn0025836' score=None scoreType=None secondaryIdentifier='CG40494' symbol='RhoGAP1A'\n",
      "Gene: briefDescription=None cytoLocation='-' description=None id=1007519 length=21475 name='verthandi' primaryIdentifier='FBgn0260987' score=None scoreType=None secondaryIdentifier='CG17436' symbol='vtd'\n",
      "Gene: briefDescription=None cytoLocation='-' description=None id=1015398 length=14286 name='Maf1' primaryIdentifier='FBgn0267861' score=None scoreType=None secondaryIdentifier='CG40196' symbol='Maf1'\n",
      "Gene: briefDescription=None cytoLocation='-' description=None id=1018843 length=12844 name=None primaryIdentifier='FBgn0039941' score=None scoreType=None secondaryIdentifier='CG17167' symbol='CG17167'\n",
      "Gene: briefDescription=None cytoLocation='-' description=None id=1018936 length=11613 name=None primaryIdentifier='FBgn0040031' score=None scoreType=None secondaryIdentifier='CG12061' symbol='CG12061'\n",
      "Gene: briefDescription=None cytoLocation='-' description=None id=1019191 length=45356 name=None primaryIdentifier='FBgn0039959' score=None scoreType=None secondaryIdentifier='CG17514' symbol='CG17514'\n",
      "Gene: briefDescription=None cytoLocation='-' description=None id=1019474 length=21673 name=None primaryIdentifier='FBgn0039955' score=None scoreType=None secondaryIdentifier='CG41099' symbol='CG41099'\n",
      "Gene: briefDescription=None cytoLocation='-' description=None id=1020233 length=11099 name=None primaryIdentifier='FBgn0040056' score=None scoreType=None secondaryIdentifier='CG17698' symbol='CG17698'\n",
      "Gene: briefDescription=None cytoLocation='-' description=None id=1020460 length=32088 name='kelch like family member 10' primaryIdentifier='FBgn0040038' score=None scoreType=None secondaryIdentifier='CG12423' symbol='klhl10'\n"
     ]
    }
   ],
   "source": [
    "for row in query5.rows(size=10):\n",
    "    print(row)"
   ]
  },
  {
   "cell_type": "markdown",
   "metadata": {},
   "source": [
    "Unlike most constraints, Sub-class constraints do not have an operator that is specified as a parameter to a constraint. "
   ]
  },
  {
   "cell_type": "markdown",
   "metadata": {},
   "source": [
    "This tutorial summed up some of the important constraint types. In the next tutorial we will look at some of the other features of a query. "
   ]
  }
 ],
 "metadata": {
  "anaconda-cloud": {},
  "kernelspec": {
   "display_name": "Python [conda root]",
   "language": "python",
   "name": "conda-root-py"
  },
  "language_info": {
   "codemirror_mode": {
    "name": "ipython",
    "version": 3
   },
   "file_extension": ".py",
   "mimetype": "text/x-python",
   "name": "python",
   "nbconvert_exporter": "python",
   "pygments_lexer": "ipython3",
   "version": "3.5.2"
  }
 },
 "nbformat": 4,
 "nbformat_minor": 1
}
